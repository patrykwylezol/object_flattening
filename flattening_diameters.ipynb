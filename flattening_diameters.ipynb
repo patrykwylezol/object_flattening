{
 "cells": [
  {
   "cell_type": "code",
   "execution_count": 8,
   "id": "77d79b92",
   "metadata": {},
   "outputs": [
    {
     "name": "stdout",
     "output_type": "stream",
     "text": [
      "average flattening 0.0655125\n",
      "average error 0.0072125\n",
      "standard deviation of the flattenings 0.011731201718067932\n",
      "standard deviation of mean 0.004147606143156555\n",
      "total error 0.01377102937328942\n"
     ]
    }
   ],
   "source": [
    "import numpy as np\n",
    "import math\n",
    "\n",
    "# otwiera plik \"data\", odczytuje z niego dane i wczytuje to tablicy dzieląc tam gdzie jest nowa linia\n",
    "data_raw = open(\"data\", \"r\").read().split('\\n')\n",
    "\n",
    "\n",
    "# temp to taka tymczasowa tablica, a k to zmienna do liczenia\n",
    "temp = [[]]\n",
    "k = 0\n",
    "\n",
    "# tutaj rozdziela dane tam gdzie jest spacja, bo wczesniej tylko tam gdzie enter\n",
    "# i zamienia je z typu string na float (zmiennoprzecinkowy)\n",
    "for i in range(len(data_raw)):\n",
    "    if data_raw[i] == '':\n",
    "        k += 1\n",
    "        temp.append([])\n",
    "        continue\n",
    "    pair = [float(x) for x in data_raw[i].split()]\n",
    "    temp[k].append((pair[0] / 0.9979, pair[1]))\n",
    "# nowe \"obrobione\" dane ida do zmiennej dists\n",
    "dists = temp[0]\n",
    "\n",
    "\n",
    "\n",
    "def flat(d):\n",
    "    # ta funkcja bierze jako argument (polar diameter, equatorial diameter) i zwraca (flattening, error)\n",
    "    fff = 1 - d[1]/d[0]\n",
    "    uuu = math.sqrt(1/6) * math.sqrt((-1/d[0])**2 + (d[1]/(d[0]**2))**2)\n",
    "    return (round(fff,4), round(uuu,4))\n",
    "\n",
    "# a tutaj uzywajac tej funkcji flat(d) i lambda z pythona, robie liste\n",
    "# ktora zwraca (flattening, error) dla kazdego pomiaru z danych odczytanych z pliku\n",
    "flattenings_and_errors = list(map(lambda x: flat(x), dists))\n",
    "\n",
    "flattening_average = np.mean(list(map(lambda x: x[0], flattenings_and_errors)))\n",
    "print(f\"average flattening {flattening_average}\")\n",
    "\n",
    "error_average = np.mean(list(map(lambda x: x[1], flattenings_and_errors)))\n",
    "print(f\"average error {error_average}\")\n",
    "\n",
    "standard_deviation = np.std(list(map(lambda x: x[0], flattenings_and_errors)))\n",
    "print(f\"standard deviation of the flattenings {standard_deviation}\")\n",
    "print(f\"standard deviation of mean {standard_deviation/math.sqrt(len(flattenings_and_errors))}\")\n",
    "\n",
    "print(f\"total error {math.sqrt(standard_deviation**2 + error_average**2)}\")"
   ]
  },
  {
   "cell_type": "code",
   "execution_count": 5,
   "id": "75c925fe",
   "metadata": {},
   "outputs": [
    {
     "data": {
      "text/plain": [
       "[(0.0784, 0.0071),\n",
       " (0.0873, 0.007),\n",
       " (0.0597, 0.0076),\n",
       " (0.0461, 0.0076),\n",
       " (0.0654, 0.0071),\n",
       " (0.0624, 0.0071),\n",
       " (0.0592, 0.0071),\n",
       " (0.0656, 0.0071)]"
      ]
     },
     "execution_count": 5,
     "metadata": {},
     "output_type": "execute_result"
    }
   ],
   "source": [
    "flattenings_and_errors"
   ]
  },
  {
   "cell_type": "code",
   "execution_count": null,
   "id": "8084c73f",
   "metadata": {},
   "outputs": [],
   "source": []
  }
 ],
 "metadata": {
  "kernelspec": {
   "display_name": "Python 3 (ipykernel)",
   "language": "python",
   "name": "python3"
  },
  "language_info": {
   "codemirror_mode": {
    "name": "ipython",
    "version": 3
   },
   "file_extension": ".py",
   "mimetype": "text/x-python",
   "name": "python",
   "nbconvert_exporter": "python",
   "pygments_lexer": "ipython3",
   "version": "3.8.10"
  }
 },
 "nbformat": 4,
 "nbformat_minor": 5
}
