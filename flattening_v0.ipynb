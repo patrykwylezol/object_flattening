{
 "cells": [
  {
   "cell_type": "code",
   "execution_count": 2,
   "id": "46ab1548",
   "metadata": {},
   "outputs": [],
   "source": [
    "import matplotlib.pyplot as plt\n",
    "import numpy as np\n",
    "import sys\n",
    "import os\n",
    "import math\n",
    "\n",
    "sys.path.append('/home/pwylezol/jupyter1/jup1/lib/python3.8/site-packages')\n",
    "\n",
    "import pandas as pd"
   ]
  },
  {
   "cell_type": "code",
   "execution_count": 3,
   "id": "2ceecc24",
   "metadata": {},
   "outputs": [],
   "source": [
    "matplotlib inline"
   ]
  },
  {
   "cell_type": "code",
   "execution_count": 4,
   "id": "e344d608",
   "metadata": {
    "scrolled": true
   },
   "outputs": [
    {
     "data": {
      "text/plain": [
       "[[(1933.39, 1194.81),\n",
       "  (2004.24, 1228.62),\n",
       "  (1982.66, 1180.8),\n",
       "  (1952.29, 1246.63)],\n",
       " [(1932.53, 1196.07),\n",
       "  (2004.15, 1229.41),\n",
       "  (1982.22, 1181.14),\n",
       "  (1951.96, 1246.75)]]"
      ]
     },
     "execution_count": 4,
     "metadata": {},
     "output_type": "execute_result"
    }
   ],
   "source": [
    "data_raw = open(\"jowisz\", \"r\").read().split('\\n')\n",
    "\n",
    "temp = [[]]\n",
    "k = 0\n",
    "\n",
    "for i in range(len(data_raw)):\n",
    "    if data_raw[i] == '':\n",
    "        k += 1\n",
    "        temp.append([])\n",
    "        continue\n",
    "    pair = [float(x) for x in data_raw[i].split()]\n",
    "    temp[k].append((pair[0], pair[1]))\n",
    "data = temp\n",
    "data[:2]"
   ]
  },
  {
   "cell_type": "code",
   "execution_count": 5,
   "id": "1084c54a",
   "metadata": {
    "scrolled": true
   },
   "outputs": [
    {
     "data": {
      "text/plain": [
       "[(78.50374895506575, 72.49776410345376),\n",
       " (78.99987341762028, 72.25191831363362),\n",
       " (73.75219725540381, 69.49524444161645),\n",
       " (73.75130168342777, 70.49973687894156),\n",
       " (78.74521064801333, 73.75091050285404),\n",
       " (78.75640672351685, 73.99810875961627),\n",
       " (78.49441827289375, 73.99947702517912),\n",
       " (78.75298343554987, 73.74463234703944)]"
      ]
     },
     "execution_count": 5,
     "metadata": {},
     "output_type": "execute_result"
    }
   ],
   "source": [
    "dists = [(math.dist(x[0], x[1]), math.dist(x[2], x[3]))for x in data]\n",
    "dists[:]"
   ]
  },
  {
   "cell_type": "code",
   "execution_count": 6,
   "id": "2a2d7590",
   "metadata": {},
   "outputs": [
    {
     "data": {
      "text/plain": [
       "[(0.0765, 0.02),\n",
       " (0.0854, 0.0198),\n",
       " (0.0577, 0.0215),\n",
       " (0.0441, 0.0217),\n",
       " (0.0634, 0.0201),\n",
       " (0.0604, 0.0201),\n",
       " (0.0573, 0.0202),\n",
       " (0.0636, 0.0201)]"
      ]
     },
     "execution_count": 6,
     "metadata": {},
     "output_type": "execute_result"
    }
   ],
   "source": [
    "def flat(d):\n",
    "    fff = 1 - d[1]/d[0]\n",
    "    uuu = math.sqrt(4/3) * math.sqrt((-1/d[0])**2 + (d[1]/(d[0]**2))**2)\n",
    "    return (round(fff,4), round(uuu,4))\n",
    "\n",
    "uncs = list(map(lambda x: flat(x), dists))\n",
    "uncs"
   ]
  },
  {
   "cell_type": "code",
   "execution_count": 7,
   "id": "8ee9c0da",
   "metadata": {},
   "outputs": [
    {
     "name": "stdout",
     "output_type": "stream",
     "text": [
      "0.06355\n",
      "0.0204375\n",
      "0.004158312458197436\n",
      "0.020856245317650058\n"
     ]
    }
   ],
   "source": [
    "avg = np.mean(list(map(lambda x: x[0], uncs)))\n",
    "print(avg)\n",
    "\n",
    "aaaaa = np.mean(list(map(lambda x: x[1], uncs)))\n",
    "print(aaaaa)\n",
    "\n",
    "sigma = np.std(list(map(lambda x: x[0], uncs))) /math.sqrt(8)\n",
    "print(sigma)\n",
    "\n",
    "print(math.sqrt(sigma**2 + aaaaa**2))"
   ]
  },
  {
   "cell_type": "code",
   "execution_count": 10,
   "id": "8d1e72a5",
   "metadata": {},
   "outputs": [
    {
     "name": "stdout",
     "output_type": "stream",
     "text": [
      "0.06243\n",
      "0.004229905436295238\n",
      "[(0.0551, 0.0167), (0.056, 0.0167), (0.07, 0.0163), (0.0631, 0.0165), (0.0655, 0.0166), (0.0643, 0.0167), (0.0639, 0.0166), (0.0598, 0.0164), (0.0625, 0.0163), (0.0625, 0.0164)]\n",
      "0.062270000000000006\n",
      "0.01652\n",
      "0.004178289123552845\n",
      "0.01704020246358593\n"
     ]
    }
   ],
   "source": [
    "print(np.mean([0.0551,0.0559,0.0699,0.0630,0.0655,0.0643,0.0638,0.0598,0.0624,0.0646]))\n",
    "print(np.std([0.0551,0.0559,0.0699,0.0630,0.0655,0.0643,0.0638,0.0598,0.0624,0.0646]))\n",
    "\n",
    "dists2 = [(95.25, 90.0014),(95.3362, 90.0003), (96.4533, 89.702), (95.9078, 89.8578), (95.3139, 89.0667), (94.447, 88.3696), (95.3485, 89.2603), (96.6436, 90.8639), (97.2232, 91.1477), (96.4558, 90.428)]\n",
    "uncs2 = list(map(lambda x: flat(x), dists2))\n",
    "print(uncs2)\n",
    "\n",
    "avg2 = np.mean(list(map(lambda x: x[0], uncs2)))\n",
    "print(avg2)\n",
    "\n",
    "aaaaa2 = np.mean(list(map(lambda x: x[1], uncs2)))\n",
    "print(aaaaa2)\n",
    "\n",
    "sigma2 = np.std(list(map(lambda x: x[0], uncs2)))\n",
    "print(sigma2)\n",
    "\n",
    "print(math.sqrt(sigma2**2 + aaaaa2**2))"
   ]
  },
  {
   "cell_type": "code",
   "execution_count": null,
   "id": "fb0fc9e5",
   "metadata": {},
   "outputs": [],
   "source": []
  }
 ],
 "metadata": {
  "kernelspec": {
   "display_name": "Python 3 (ipykernel)",
   "language": "python",
   "name": "python3"
  },
  "language_info": {
   "codemirror_mode": {
    "name": "ipython",
    "version": 3
   },
   "file_extension": ".py",
   "mimetype": "text/x-python",
   "name": "python",
   "nbconvert_exporter": "python",
   "pygments_lexer": "ipython3",
   "version": "3.8.10"
  }
 },
 "nbformat": 4,
 "nbformat_minor": 5
}
